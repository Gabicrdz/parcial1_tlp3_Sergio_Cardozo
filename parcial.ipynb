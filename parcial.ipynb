{
 "cells": [
  {
   "cell_type": "markdown",
   "id": "9fee5ee9",
   "metadata": {},
   "source": [
    "# Examen Parcial n°1 2da Parte - TLP3 - Python para Ciencia de Datos.\n"
   ]
  },
  {
   "cell_type": "markdown",
   "id": "999099d0",
   "metadata": {},
   "source": [
    "**A partir del datasets brindado, realizar los siguientes procedimientos:**\n",
    "\n",
    "* Importar datasets con Pandas.\n",
    "* Explorar los datos con los metodos correspondientes. \n",
    "* Limpieza de los datos (Normalización de datos).\n",
    "* Obtener estadisticas.\n",
    "* Mostrar los datos procesados con graficos utilizando la libreria Matplotlib.\n",
    "* Exportar el contenido a un archivo sqlite utilizando PANDAS.\n",
    "\n",
    "\n",
    "**Importante: Se debe documentar cada procedimiento realizado, siguiendo la siguiente estructura:**\n",
    "\n",
    "1. Celda de Markdown (Documentación)\n",
    "2. Código (Sin comentarios, se debe documentar lo sufiente solo en la celda de markdown).\n",
    "\n",
    "\n",
    "### Criterios de Evaluación:\n",
    "\n",
    "1. No esta permitido el uso de IAs durante el examen. (Desactivar Copilot o cualquier herramienta de IA para autocompletar codigo.)\n",
    "\n",
    "2. Se deben utilizar nombres de variables descriptivos y claros (Utilizar la nomeclatura correspondiente para los nombres de variables).\n",
    "\n",
    "3. Comentarios claros y concisos que expliquen el propósito de cada sección del código en una celda de markdown antes del código.\n",
    "\n",
    "4. Utilizar mensajes de commit descriptivos. (Puedes utilizar la extension CONVENTIONAL COMMIT de VS-CODE).\n",
    "\n",
    "5. Entrega en tiempo y forma (Parciales entregados fuera de hora o con commits pasados el horario de entrega quedará invalidado.)\n",
    "\n",
    "6. Todo el código desarrollado debe ser subido a un repositorio en GitHub (el nombre del repositorio de seguir la siguiente estructura: \n",
    "**parcial1_tlp3_nombre_apellido**).\n",
    "\n",
    "7. Para resolver las actividades se debe insertar casillas de codigo entre cada actividad del cuaderno de Jupyter.\n",
    "\n",
    "8. Deben trabajar con el datasets adjunto.\n",
    "\n",
    "9. Una vez finalizado el examen, los resultados deben quedar guardados debajo de cada celda (NO EJECUTAR LA OPCIÓN \"borrar todas las salidas\").\n",
    "\n",
    "**Importante:** Una vez finalizado el examen, marcar como completado en el classroom."
   ]
  },
  {
   "cell_type": "markdown",
   "id": "dd91f969",
   "metadata": {},
   "source": [
    "## Actividades: \n",
    "### 1. Importación del Dataset con Pandas\n",
    "\n",
    "En esta sección, se debe utilizar la librería Pandas para cargar el archivo CSV que contiene los datos de CALIFICACIONES en un DataFrame.\n",
    "\n",
    "### 2. Exploración Inicial de los Datos\n",
    "\n",
    "A continuación, se deben emplear métodos de Pandas para obtener una visión general del dataset. \n",
    "- 2.1: Visualizar las primeras filas y ultimas.\n",
    "- 2.2: Obtener informacion del df con su metodo correspondiente.\n",
    "- 2.3: Hacer un conteo de valores nulos.\n",
    "\n",
    "### 3. Limpieza y Normalización de los Datos\n",
    "\n",
    "- 3.1. Esta etapa crucial deben aplicar la corrección de diversos errores presentes en el dataset. Se abordarán los valores faltantes (Deben aplicar los metodos que ustedes crean convenientes **(Solo 1)**, por ejemplo: Eliminación de filas, cubrir valores con media, mediana, etc.)\n",
    "- 3.2: La columna Fecha deberan pasarla al tipo datetime con su metodo correspondiente.\n",
    "- 3.3: Corregir las mayusculas en el caso de Nombre y Apellido (Si es que corresponde.)\n",
    "\n",
    "\n",
    "### 4. Obtención de Estadísticas Descriptivas\n",
    "\n",
    "Después de la limpieza, deben hacer lo siguiente: \n",
    "\n",
    "- 4.1: calcular nuevamente las estadísticas descriptivas para observar el impacto del proceso de limpieza en los datos numéricos.\n",
    "- 4.2: Calcular estadísticas específicas por grupo (Agrupar dos columnas).\n",
    "\n",
    "### 5. Visualización de los Datos con Matplotlib\n",
    "\n",
    "En esta sección, deben utilizar la librería Matplotlib para crear **UNA** visualización que permitan comprender mejor los datos de ventas.El grafico es a elección, puede crear **UNO** de los siguientes: histogramas, diagramas de dispersión, gráficos de barras y graficos de torta.\n",
    "\n",
    "### 6. Exportación a Archivo SQLite\n",
    "\n",
    "Finalmente, deben utilizar la funcionalidad de Pandas para guardar el DataFrame procesado en una base de datos SQLite. Deben hacer una conexión y hacer una consulta para ver si los datos fueron cargados correctamente.\n",
    "\n"
   ]
  },
  {
   "cell_type": "markdown",
   "id": "dd52f931",
   "metadata": {},
   "source": [
    "### 1. Importación del Dataset con Pandas\n",
    "En esta seccion de codigo voy a cargar las librerias necesarias para poder realizar el parcial y tambien voy a cargar el dataset de calificaiones."
   ]
  },
  {
   "cell_type": "code",
   "execution_count": 2,
   "id": "dcb366dc",
   "metadata": {},
   "outputs": [],
   "source": [
    "import pandas as pd \n",
    "import numpy as np \n",
    "import matplotlib.pyplot as plt \n",
    "\n",
    "df = pd.read_csv('calificaciones.csv')"
   ]
  },
  {
   "cell_type": "markdown",
   "id": "2147e570",
   "metadata": {},
   "source": [
    "### 2. Exploración Inicial de los Datos\n",
    "2.1 En esta seccion de codigo lo que hare es visualizar las primeras y las ultimas filas usando los metodos \"head\" y \"tail\"."
   ]
  },
  {
   "cell_type": "code",
   "execution_count": null,
   "id": "48f09067",
   "metadata": {},
   "outputs": [
    {
     "data": {
      "text/html": [
       "<div>\n",
       "<style scoped>\n",
       "    .dataframe tbody tr th:only-of-type {\n",
       "        vertical-align: middle;\n",
       "    }\n",
       "\n",
       "    .dataframe tbody tr th {\n",
       "        vertical-align: top;\n",
       "    }\n",
       "\n",
       "    .dataframe thead th {\n",
       "        text-align: right;\n",
       "    }\n",
       "</style>\n",
       "<table border=\"1\" class=\"dataframe\">\n",
       "  <thead>\n",
       "    <tr style=\"text-align: right;\">\n",
       "      <th></th>\n",
       "      <th>nombre</th>\n",
       "      <th>apellido</th>\n",
       "      <th>parcial1</th>\n",
       "      <th>parcial2</th>\n",
       "      <th>nota_final</th>\n",
       "      <th>fecha</th>\n",
       "      <th>aprobado</th>\n",
       "    </tr>\n",
       "  </thead>\n",
       "  <tbody>\n",
       "    <tr>\n",
       "      <th>96</th>\n",
       "      <td>martín</td>\n",
       "      <td>gomez</td>\n",
       "      <td>4.1</td>\n",
       "      <td>8.7</td>\n",
       "      <td>NaN</td>\n",
       "      <td>2024-07-02</td>\n",
       "      <td>sí</td>\n",
       "    </tr>\n",
       "    <tr>\n",
       "      <th>97</th>\n",
       "      <td>andrés</td>\n",
       "      <td>gomez</td>\n",
       "      <td>1.2</td>\n",
       "      <td>NaN</td>\n",
       "      <td>3.9</td>\n",
       "      <td>2024-11-04</td>\n",
       "      <td>aprobado</td>\n",
       "    </tr>\n",
       "    <tr>\n",
       "      <th>98</th>\n",
       "      <td>federico</td>\n",
       "      <td>rodriguez</td>\n",
       "      <td>9.1</td>\n",
       "      <td>8.6</td>\n",
       "      <td>NaN</td>\n",
       "      <td>2024-05-11</td>\n",
       "      <td>Si</td>\n",
       "    </tr>\n",
       "    <tr>\n",
       "      <th>99</th>\n",
       "      <td>federico</td>\n",
       "      <td>pereyra</td>\n",
       "      <td>NaN</td>\n",
       "      <td>1.7</td>\n",
       "      <td>2.2</td>\n",
       "      <td>2024-05-20</td>\n",
       "      <td>Reprobado</td>\n",
       "    </tr>\n",
       "    <tr>\n",
       "      <th>100</th>\n",
       "      <td>federico</td>\n",
       "      <td>ruiz</td>\n",
       "      <td>3.5</td>\n",
       "      <td>7.1</td>\n",
       "      <td>8.6</td>\n",
       "      <td>2024-03-07</td>\n",
       "      <td>sí</td>\n",
       "    </tr>\n",
       "  </tbody>\n",
       "</table>\n",
       "</div>"
      ],
      "text/plain": [
       "       nombre   apellido  parcial1  parcial2  nota_final       fecha  \\\n",
       "96     martín      gomez       4.1       8.7         NaN  2024-07-02   \n",
       "97     andrés      gomez       1.2       NaN         3.9  2024-11-04   \n",
       "98   federico  rodriguez       9.1       8.6         NaN  2024-05-11   \n",
       "99   federico    pereyra       NaN       1.7         2.2  2024-05-20   \n",
       "100  federico       ruiz       3.5       7.1         8.6  2024-03-07   \n",
       "\n",
       "      aprobado  \n",
       "96          sí  \n",
       "97    aprobado  \n",
       "98          Si  \n",
       "99   Reprobado  \n",
       "100         sí  "
      ]
     },
     "execution_count": 5,
     "metadata": {},
     "output_type": "execute_result"
    }
   ],
   "source": [
    "df.head()\n",
    "\n"
   ]
  },
  {
   "cell_type": "code",
   "execution_count": 6,
   "id": "1f703d32",
   "metadata": {},
   "outputs": [
    {
     "data": {
      "text/html": [
       "<div>\n",
       "<style scoped>\n",
       "    .dataframe tbody tr th:only-of-type {\n",
       "        vertical-align: middle;\n",
       "    }\n",
       "\n",
       "    .dataframe tbody tr th {\n",
       "        vertical-align: top;\n",
       "    }\n",
       "\n",
       "    .dataframe thead th {\n",
       "        text-align: right;\n",
       "    }\n",
       "</style>\n",
       "<table border=\"1\" class=\"dataframe\">\n",
       "  <thead>\n",
       "    <tr style=\"text-align: right;\">\n",
       "      <th></th>\n",
       "      <th>nombre</th>\n",
       "      <th>apellido</th>\n",
       "      <th>parcial1</th>\n",
       "      <th>parcial2</th>\n",
       "      <th>nota_final</th>\n",
       "      <th>fecha</th>\n",
       "      <th>aprobado</th>\n",
       "    </tr>\n",
       "  </thead>\n",
       "  <tbody>\n",
       "    <tr>\n",
       "      <th>96</th>\n",
       "      <td>martín</td>\n",
       "      <td>gomez</td>\n",
       "      <td>4.1</td>\n",
       "      <td>8.7</td>\n",
       "      <td>NaN</td>\n",
       "      <td>2024-07-02</td>\n",
       "      <td>sí</td>\n",
       "    </tr>\n",
       "    <tr>\n",
       "      <th>97</th>\n",
       "      <td>andrés</td>\n",
       "      <td>gomez</td>\n",
       "      <td>1.2</td>\n",
       "      <td>NaN</td>\n",
       "      <td>3.9</td>\n",
       "      <td>2024-11-04</td>\n",
       "      <td>aprobado</td>\n",
       "    </tr>\n",
       "    <tr>\n",
       "      <th>98</th>\n",
       "      <td>federico</td>\n",
       "      <td>rodriguez</td>\n",
       "      <td>9.1</td>\n",
       "      <td>8.6</td>\n",
       "      <td>NaN</td>\n",
       "      <td>2024-05-11</td>\n",
       "      <td>Si</td>\n",
       "    </tr>\n",
       "    <tr>\n",
       "      <th>99</th>\n",
       "      <td>federico</td>\n",
       "      <td>pereyra</td>\n",
       "      <td>NaN</td>\n",
       "      <td>1.7</td>\n",
       "      <td>2.2</td>\n",
       "      <td>2024-05-20</td>\n",
       "      <td>Reprobado</td>\n",
       "    </tr>\n",
       "    <tr>\n",
       "      <th>100</th>\n",
       "      <td>federico</td>\n",
       "      <td>ruiz</td>\n",
       "      <td>3.5</td>\n",
       "      <td>7.1</td>\n",
       "      <td>8.6</td>\n",
       "      <td>2024-03-07</td>\n",
       "      <td>sí</td>\n",
       "    </tr>\n",
       "  </tbody>\n",
       "</table>\n",
       "</div>"
      ],
      "text/plain": [
       "       nombre   apellido  parcial1  parcial2  nota_final       fecha  \\\n",
       "96     martín      gomez       4.1       8.7         NaN  2024-07-02   \n",
       "97     andrés      gomez       1.2       NaN         3.9  2024-11-04   \n",
       "98   federico  rodriguez       9.1       8.6         NaN  2024-05-11   \n",
       "99   federico    pereyra       NaN       1.7         2.2  2024-05-20   \n",
       "100  federico       ruiz       3.5       7.1         8.6  2024-03-07   \n",
       "\n",
       "      aprobado  \n",
       "96          sí  \n",
       "97    aprobado  \n",
       "98          Si  \n",
       "99   Reprobado  \n",
       "100         sí  "
      ]
     },
     "execution_count": 6,
     "metadata": {},
     "output_type": "execute_result"
    }
   ],
   "source": [
    "df.tail()"
   ]
  },
  {
   "cell_type": "markdown",
   "id": "bf2b0fa3",
   "metadata": {},
   "source": [
    "2.2 En esta seccion voy a obtener informacion con el metodo \"info\"."
   ]
  },
  {
   "cell_type": "code",
   "execution_count": 7,
   "id": "a6c92eac",
   "metadata": {},
   "outputs": [
    {
     "data": {
      "text/plain": [
       "<bound method DataFrame.info of        nombre   apellido  parcial1  parcial2  nota_final       fecha  \\\n",
       "0    federico     torres       NaN       6.9         6.1  2024-03-23   \n",
       "1    federico    ramirez       8.7       6.6         NaN  2024-04-04   \n",
       "2    federico  fernandez       NaN       NaN         7.1  2024-10-27   \n",
       "3       maría     torres       5.5       8.8         2.0  2024-06-14   \n",
       "4    agustina  fernandez       6.8       7.3         4.0  2024-08-21   \n",
       "..        ...        ...       ...       ...         ...         ...   \n",
       "96     martín      gomez       4.1       8.7         NaN  2024-07-02   \n",
       "97     andrés      gomez       1.2       NaN         3.9  2024-11-04   \n",
       "98   federico  rodriguez       9.1       8.6         NaN  2024-05-11   \n",
       "99   federico    pereyra       NaN       1.7         2.2  2024-05-20   \n",
       "100  federico       ruiz       3.5       7.1         8.6  2024-03-07   \n",
       "\n",
       "      aprobado  \n",
       "0           sí  \n",
       "1     Aprobado  \n",
       "2           NO  \n",
       "3           NO  \n",
       "4           Si  \n",
       "..         ...  \n",
       "96          sí  \n",
       "97    aprobado  \n",
       "98          Si  \n",
       "99   Reprobado  \n",
       "100         sí  \n",
       "\n",
       "[101 rows x 7 columns]>"
      ]
     },
     "execution_count": 7,
     "metadata": {},
     "output_type": "execute_result"
    }
   ],
   "source": [
    "df.info"
   ]
  },
  {
   "cell_type": "markdown",
   "id": "565cbda4",
   "metadata": {},
   "source": [
    "2.3 En esta seccion voy a obtener informacion de los valores nulo con el metodo \"isnull\"."
   ]
  },
  {
   "cell_type": "code",
   "execution_count": 8,
   "id": "bcd310ae",
   "metadata": {},
   "outputs": [
    {
     "data": {
      "text/plain": [
       "nombre         0\n",
       "apellido       0\n",
       "parcial1      19\n",
       "parcial2      33\n",
       "nota_final    38\n",
       "fecha          0\n",
       "aprobado       0\n",
       "dtype: int64"
      ]
     },
     "execution_count": 8,
     "metadata": {},
     "output_type": "execute_result"
    }
   ],
   "source": [
    "df.isnull().sum()"
   ]
  },
  {
   "cell_type": "markdown",
   "id": "836979a2",
   "metadata": {},
   "source": [
    "### 3. Limpieza y Normalización de los Datos \n",
    "3.1 En esta seccion de codigo voy a tratar los valores faltantes en las columnas numericas "
   ]
  },
  {
   "cell_type": "code",
   "execution_count": 10,
   "id": "5a3cc157",
   "metadata": {},
   "outputs": [],
   "source": [
    "columnas_numericas =['parcial1', 'parcial2', 'nota_final']\n",
    "for col in columnas_numericas:\n",
    "    df[col] = df[col].fillna(df[col].mean())"
   ]
  },
  {
   "cell_type": "markdown",
   "id": "7f8ff986",
   "metadata": {},
   "source": [
    "3.2 En esta seccion de codigo voy a pasar la columna \"fecha\" a datetime"
   ]
  },
  {
   "cell_type": "code",
   "execution_count": 11,
   "id": "f019409d",
   "metadata": {},
   "outputs": [],
   "source": [
    "df['fecha'] = pd.to_datetime(df['fecha'])"
   ]
  },
  {
   "cell_type": "markdown",
   "id": "31360251",
   "metadata": {},
   "source": [
    "3.3 En esta seccion de codigo voy a corregir las mayusculas en los nombres y apellidos"
   ]
  },
  {
   "cell_type": "code",
   "execution_count": 14,
   "id": "1f1fa737",
   "metadata": {},
   "outputs": [],
   "source": [
    "df['nombre'] = df['nombre'].str.capitalize()\n",
    "df['apellido'] = df['apellido'].str.capitalize()"
   ]
  },
  {
   "cell_type": "markdown",
   "id": "6e584410",
   "metadata": {},
   "source": [
    "En esta celda voy a mostar los cambios realizados con el metodo \"head\""
   ]
  },
  {
   "cell_type": "code",
   "execution_count": 15,
   "id": "0fe0c0a4",
   "metadata": {},
   "outputs": [
    {
     "data": {
      "text/html": [
       "<div>\n",
       "<style scoped>\n",
       "    .dataframe tbody tr th:only-of-type {\n",
       "        vertical-align: middle;\n",
       "    }\n",
       "\n",
       "    .dataframe tbody tr th {\n",
       "        vertical-align: top;\n",
       "    }\n",
       "\n",
       "    .dataframe thead th {\n",
       "        text-align: right;\n",
       "    }\n",
       "</style>\n",
       "<table border=\"1\" class=\"dataframe\">\n",
       "  <thead>\n",
       "    <tr style=\"text-align: right;\">\n",
       "      <th></th>\n",
       "      <th>nombre</th>\n",
       "      <th>apellido</th>\n",
       "      <th>parcial1</th>\n",
       "      <th>parcial2</th>\n",
       "      <th>nota_final</th>\n",
       "      <th>fecha</th>\n",
       "      <th>aprobado</th>\n",
       "    </tr>\n",
       "  </thead>\n",
       "  <tbody>\n",
       "    <tr>\n",
       "      <th>0</th>\n",
       "      <td>Federico</td>\n",
       "      <td>Torres</td>\n",
       "      <td>5.312195</td>\n",
       "      <td>6.900000</td>\n",
       "      <td>6.100000</td>\n",
       "      <td>2024-03-23</td>\n",
       "      <td>sí</td>\n",
       "    </tr>\n",
       "    <tr>\n",
       "      <th>1</th>\n",
       "      <td>Federico</td>\n",
       "      <td>Ramirez</td>\n",
       "      <td>8.700000</td>\n",
       "      <td>6.600000</td>\n",
       "      <td>5.890476</td>\n",
       "      <td>2024-04-04</td>\n",
       "      <td>Aprobado</td>\n",
       "    </tr>\n",
       "    <tr>\n",
       "      <th>2</th>\n",
       "      <td>Federico</td>\n",
       "      <td>Fernandez</td>\n",
       "      <td>5.312195</td>\n",
       "      <td>5.348529</td>\n",
       "      <td>7.100000</td>\n",
       "      <td>2024-10-27</td>\n",
       "      <td>NO</td>\n",
       "    </tr>\n",
       "    <tr>\n",
       "      <th>3</th>\n",
       "      <td>María</td>\n",
       "      <td>Torres</td>\n",
       "      <td>5.500000</td>\n",
       "      <td>8.800000</td>\n",
       "      <td>2.000000</td>\n",
       "      <td>2024-06-14</td>\n",
       "      <td>NO</td>\n",
       "    </tr>\n",
       "    <tr>\n",
       "      <th>4</th>\n",
       "      <td>Agustina</td>\n",
       "      <td>Fernandez</td>\n",
       "      <td>6.800000</td>\n",
       "      <td>7.300000</td>\n",
       "      <td>4.000000</td>\n",
       "      <td>2024-08-21</td>\n",
       "      <td>Si</td>\n",
       "    </tr>\n",
       "  </tbody>\n",
       "</table>\n",
       "</div>"
      ],
      "text/plain": [
       "     nombre   apellido  parcial1  parcial2  nota_final      fecha  aprobado\n",
       "0  Federico     Torres  5.312195  6.900000    6.100000 2024-03-23        sí\n",
       "1  Federico    Ramirez  8.700000  6.600000    5.890476 2024-04-04  Aprobado\n",
       "2  Federico  Fernandez  5.312195  5.348529    7.100000 2024-10-27        NO\n",
       "3     María     Torres  5.500000  8.800000    2.000000 2024-06-14        NO\n",
       "4  Agustina  Fernandez  6.800000  7.300000    4.000000 2024-08-21        Si"
      ]
     },
     "execution_count": 15,
     "metadata": {},
     "output_type": "execute_result"
    }
   ],
   "source": [
    "df.head()"
   ]
  },
  {
   "cell_type": "markdown",
   "id": "9aa10f75",
   "metadata": {},
   "source": [
    "### 4. Obtención de Estadísticas Descriptivas\n",
    "4.1 En esta seccion voy a mostar "
   ]
  },
  {
   "cell_type": "markdown",
   "id": "3abbc447",
   "metadata": {},
   "source": [
    "### 5. Visualización de los Datos con Matplotlib\n",
    "En esta seccion de codigo voy a mostrar una visualizaion de Matplotlib"
   ]
  },
  {
   "cell_type": "code",
   "execution_count": 17,
   "id": "1e90dbe8",
   "metadata": {},
   "outputs": [
    {
     "data": {
      "text/plain": [
       "<Axes: >"
      ]
     },
     "execution_count": 17,
     "metadata": {},
     "output_type": "execute_result"
    },
    {
     "data": {
      "image/png": "[encoded data removed]",
      "text/plain": [
       "<Figure size 640x480 with 1 Axes>"
      ]
     },
     "metadata": {},
     "output_type": "display_data"
    }
   ],
   "source": [
    "promedios = df[['parcial1','parcial2','nota_final']].mean()\n",
    "\n",
    "plt.Figure(figsize=(10,5))\n",
    "colores = ['#5FA5DA', '#FAA43A', '#60BD68']\n",
    "promedios.plot(kind='bar', color = colores)"
   ]
  },
  {
   "cell_type": "markdown",
   "id": "6c44b135",
   "metadata": {},
   "source": [
    "### 6. Exportación a Archivo SQLite\n",
    "En esta seccion de codigo exportaremos a un archivo SQLite"
   ]
  },
  {
   "cell_type": "code",
   "execution_count": 26,
   "id": "c0a15236",
   "metadata": {},
   "outputs": [
    {
     "data": {
      "text/html": [
       "<div>\n",
       "<style scoped>\n",
       "    .dataframe tbody tr th:only-of-type {\n",
       "        vertical-align: middle;\n",
       "    }\n",
       "\n",
       "    .dataframe tbody tr th {\n",
       "        vertical-align: top;\n",
       "    }\n",
       "\n",
       "    .dataframe thead th {\n",
       "        text-align: right;\n",
       "    }\n",
       "</style>\n",
       "<table border=\"1\" class=\"dataframe\">\n",
       "  <thead>\n",
       "    <tr style=\"text-align: right;\">\n",
       "      <th></th>\n",
       "      <th>nombre</th>\n",
       "      <th>apellido</th>\n",
       "      <th>parcial1</th>\n",
       "      <th>parcial2</th>\n",
       "      <th>nota_final</th>\n",
       "      <th>fecha</th>\n",
       "      <th>aprobado</th>\n",
       "    </tr>\n",
       "  </thead>\n",
       "  <tbody>\n",
       "    <tr>\n",
       "      <th>0</th>\n",
       "      <td>Federico</td>\n",
       "      <td>Torres</td>\n",
       "      <td>5.312195</td>\n",
       "      <td>6.900000</td>\n",
       "      <td>6.100000</td>\n",
       "      <td>2024-03-23 00:00:00</td>\n",
       "      <td>sí</td>\n",
       "    </tr>\n",
       "    <tr>\n",
       "      <th>1</th>\n",
       "      <td>Federico</td>\n",
       "      <td>Ramirez</td>\n",
       "      <td>8.700000</td>\n",
       "      <td>6.600000</td>\n",
       "      <td>5.890476</td>\n",
       "      <td>2024-04-04 00:00:00</td>\n",
       "      <td>Aprobado</td>\n",
       "    </tr>\n",
       "    <tr>\n",
       "      <th>2</th>\n",
       "      <td>Federico</td>\n",
       "      <td>Fernandez</td>\n",
       "      <td>5.312195</td>\n",
       "      <td>5.348529</td>\n",
       "      <td>7.100000</td>\n",
       "      <td>2024-10-27 00:00:00</td>\n",
       "      <td>NO</td>\n",
       "    </tr>\n",
       "    <tr>\n",
       "      <th>3</th>\n",
       "      <td>María</td>\n",
       "      <td>Torres</td>\n",
       "      <td>5.500000</td>\n",
       "      <td>8.800000</td>\n",
       "      <td>2.000000</td>\n",
       "      <td>2024-06-14 00:00:00</td>\n",
       "      <td>NO</td>\n",
       "    </tr>\n",
       "    <tr>\n",
       "      <th>4</th>\n",
       "      <td>Agustina</td>\n",
       "      <td>Fernandez</td>\n",
       "      <td>6.800000</td>\n",
       "      <td>7.300000</td>\n",
       "      <td>4.000000</td>\n",
       "      <td>2024-08-21 00:00:00</td>\n",
       "      <td>Si</td>\n",
       "    </tr>\n",
       "    <tr>\n",
       "      <th>...</th>\n",
       "      <td>...</td>\n",
       "      <td>...</td>\n",
       "      <td>...</td>\n",
       "      <td>...</td>\n",
       "      <td>...</td>\n",
       "      <td>...</td>\n",
       "      <td>...</td>\n",
       "    </tr>\n",
       "    <tr>\n",
       "      <th>96</th>\n",
       "      <td>Martín</td>\n",
       "      <td>Gomez</td>\n",
       "      <td>4.100000</td>\n",
       "      <td>8.700000</td>\n",
       "      <td>5.890476</td>\n",
       "      <td>2024-07-02 00:00:00</td>\n",
       "      <td>sí</td>\n",
       "    </tr>\n",
       "    <tr>\n",
       "      <th>97</th>\n",
       "      <td>Andrés</td>\n",
       "      <td>Gomez</td>\n",
       "      <td>1.200000</td>\n",
       "      <td>5.348529</td>\n",
       "      <td>3.900000</td>\n",
       "      <td>2024-11-04 00:00:00</td>\n",
       "      <td>aprobado</td>\n",
       "    </tr>\n",
       "    <tr>\n",
       "      <th>98</th>\n",
       "      <td>Federico</td>\n",
       "      <td>Rodriguez</td>\n",
       "      <td>9.100000</td>\n",
       "      <td>8.600000</td>\n",
       "      <td>5.890476</td>\n",
       "      <td>2024-05-11 00:00:00</td>\n",
       "      <td>Si</td>\n",
       "    </tr>\n",
       "    <tr>\n",
       "      <th>99</th>\n",
       "      <td>Federico</td>\n",
       "      <td>Pereyra</td>\n",
       "      <td>5.312195</td>\n",
       "      <td>1.700000</td>\n",
       "      <td>2.200000</td>\n",
       "      <td>2024-05-20 00:00:00</td>\n",
       "      <td>Reprobado</td>\n",
       "    </tr>\n",
       "    <tr>\n",
       "      <th>100</th>\n",
       "      <td>Federico</td>\n",
       "      <td>Ruiz</td>\n",
       "      <td>3.500000</td>\n",
       "      <td>7.100000</td>\n",
       "      <td>8.600000</td>\n",
       "      <td>2024-03-07 00:00:00</td>\n",
       "      <td>sí</td>\n",
       "    </tr>\n",
       "  </tbody>\n",
       "</table>\n",
       "<p>101 rows × 7 columns</p>\n",
       "</div>"
      ],
      "text/plain": [
       "       nombre   apellido  parcial1  parcial2  nota_final                fecha  \\\n",
       "0    Federico     Torres  5.312195  6.900000    6.100000  2024-03-23 00:00:00   \n",
       "1    Federico    Ramirez  8.700000  6.600000    5.890476  2024-04-04 00:00:00   \n",
       "2    Federico  Fernandez  5.312195  5.348529    7.100000  2024-10-27 00:00:00   \n",
       "3       María     Torres  5.500000  8.800000    2.000000  2024-06-14 00:00:00   \n",
       "4    Agustina  Fernandez  6.800000  7.300000    4.000000  2024-08-21 00:00:00   \n",
       "..        ...        ...       ...       ...         ...                  ...   \n",
       "96     Martín      Gomez  4.100000  8.700000    5.890476  2024-07-02 00:00:00   \n",
       "97     Andrés      Gomez  1.200000  5.348529    3.900000  2024-11-04 00:00:00   \n",
       "98   Federico  Rodriguez  9.100000  8.600000    5.890476  2024-05-11 00:00:00   \n",
       "99   Federico    Pereyra  5.312195  1.700000    2.200000  2024-05-20 00:00:00   \n",
       "100  Federico       Ruiz  3.500000  7.100000    8.600000  2024-03-07 00:00:00   \n",
       "\n",
       "      aprobado  \n",
       "0           sí  \n",
       "1     Aprobado  \n",
       "2           NO  \n",
       "3           NO  \n",
       "4           Si  \n",
       "..         ...  \n",
       "96          sí  \n",
       "97    aprobado  \n",
       "98          Si  \n",
       "99   Reprobado  \n",
       "100         sí  \n",
       "\n",
       "[101 rows x 7 columns]"
      ]
     },
     "execution_count": 26,
     "metadata": {},
     "output_type": "execute_result"
    }
   ],
   "source": [
    "import sqlite3\n",
    "conn = sqlite3.connect('calificaciones.db')\n",
    "df.to_sql('calificaciones', conn, if_exists='replace', index =False)\n",
    "\n",
    "pd.read_sql_query(\"SELECT * FROM calificaciones\", conn)"
   ]
  }
 ],
 "metadata": {
  "kernelspec": {
   "display_name": "venv",
   "language": "python",
   "name": "python3"
  },
  "language_info": {
   "codemirror_mode": {
    "name": "ipython",
    "version": 3
   },
   "file_extension": ".py",
   "mimetype": "text/x-python",
   "name": "python",
   "nbconvert_exporter": "python",
   "pygments_lexer": "ipython3",
   "version": "3.13.2"
  }
 },
 "nbformat": 4,
 "nbformat_minor": 5
}
